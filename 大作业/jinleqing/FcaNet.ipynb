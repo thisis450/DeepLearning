{
 "cells": [
  {
   "cell_type": "code",
   "execution_count": 5,
   "metadata": {
    "pycharm": {
     "name": "#%%\n"
    }
   },
   "outputs": [
    {
     "name": "stdout",
     "output_type": "stream",
     "text": [
      "True\n"
     ]
    }
   ],
   "source": [
    "import torch\n",
    "import torch.nn as nn\n",
    "import torch.nn.functional as F\n",
    "import torch.optim as optim\n",
    "import torchvision\n",
    "import torchvision.transforms as transforms\n",
    "import sys\n",
    "sys.path.append(\"..\")\n",
    "from basic_tools import *\n",
    "sys.path.append(\"../BasicResNet/\")\n",
    "from resnet_models import *\n",
    "from FcaNet_Model import *\n",
    "print(torch.cuda.is_available())"
   ]
  },
  {
   "cell_type": "code",
   "execution_count": 6,
   "metadata": {
    "pycharm": {
     "name": "#%%\n"
    }
   },
   "outputs": [
    {
     "name": "stdout",
     "output_type": "stream",
     "text": [
      "cuda:0\n"
     ]
    }
   ],
   "source": [
    "#一些参数的设置\n",
    "device = torch.device(\"cuda:0\" if torch.cuda.is_available() else \"cpu\")\n",
    "learning_rate=0.05\n",
    "momentum=0.9\n",
    "weight_decay=0.0001\n",
    "batch_size=128\n",
    "epochs=1\n",
    "data_path='E:/深度学习/ResNet18_from_Scratch_using_PyTorch/data'\n",
    "model_name='FcaNet18_normal'+'epoch='+str(epochs)\n",
    "print(device)\n",
    "model=fcanet().to(device)\n",
    "criterion=nn.CrossEntropyLoss()\n",
    "optimizer = optim.SGD(model.parameters(), lr=learning_rate, momentum=momentum, weight_decay=weight_decay)"
   ]
  },
  {
   "cell_type": "code",
   "execution_count": 7,
   "metadata": {
    "pycharm": {
     "name": "#%%\n"
    }
   },
   "outputs": [],
   "source": [
    "#数据集的加载\n",
    "trainloader,testloader=get_data_loaders(train_batch_size=batch_size,test_batch_size=batch_size,data_path=data_path)"
   ]
  },
  {
   "cell_type": "code",
   "execution_count": 8,
   "metadata": {
    "pycharm": {
     "name": "#%%\n"
    }
   },
   "outputs": [
    {
     "name": "stdout",
     "output_type": "stream",
     "text": [
      "epoch:0,train_loss:3.7288,train_acc:12.4200,train_top5_acc:34.8540,test_loss:3.4145,test_acc:17.7400,test_top5_acc:45.5300\n"
     ]
    }
   ],
   "source": [
    "#训练之\n",
    "train_lossa, test_lossa = [], []\n",
    "train_acca, test_acca = [], []\n",
    "train_top5_acca, test_top5_acca = [], []\n",
    "for epoch in range(epochs):\n",
    "    train_loss,train_acc,train_top5_acc=train(model,trainloader,criterion,optimizer,device)\n",
    "    test_loss,test_acc,test_top5_acc=test(model,testloader,criterion,device)\n",
    "    print('epoch:{},train_loss:{:.4f},train_acc:{:.4f},train_top5_acc:{:.4f},test_loss:{:.4f},test_acc:{:.4f},test_top5_acc:{:.4f}'.format(epoch,train_loss,train_acc,train_top5_acc,test_loss,test_acc,test_top5_acc))\n",
    "    #torch.save(model.state_dict(), model_name+'.pth')\n",
    "    train_lossa.append(train_loss)\n",
    "    test_lossa.append(test_loss)\n",
    "    train_acca.append(train_acc)\n",
    "    test_acca.append(test_acc)\n",
    "    train_top5_acca.append(train_top5_acc)\n",
    "    test_top5_acca.append(test_top5_acc)\n",
    "\n",
    "#画图\n",
    "#save_plots(train_acca,test_acca,train_lossa,test_lossa,train_top5_acca,test_top5_acca,model_name)\n",
    "#save_log(model_name,train_lossa,test_lossa,train_acca,test_acca,train_top5_acca,test_top5_acca)\n",
    "#save_model_info(model_name,model,train_acca,test_acca,train_lossa,test_lossa,train_top5_acca,test_top5_acca,learning_rate,epochs,momentum,weight_decay)"
   ]
  },
  {
   "cell_type": "code",
   "execution_count": 10,
   "metadata": {
    "pycharm": {
     "name": "#%%\n"
    }
   },
   "outputs": [
    {
     "name": "stdout",
     "output_type": "stream",
     "text": [
      "[INFO] Register count_convNd() for <class 'torch.nn.modules.conv.Conv2d'>.\n",
      "[INFO] Register count_normalization() for <class 'torch.nn.modules.batchnorm.BatchNorm2d'>.\n",
      "[INFO] Register zero_ops() for <class 'torch.nn.modules.activation.ReLU'>.\n",
      "[INFO] Register count_linear() for <class 'torch.nn.modules.linear.Linear'>.\n",
      "[INFO] Register zero_ops() for <class 'torch.nn.modules.container.Sequential'>.\n",
      "[INFO] Register count_adap_avgpool() for <class 'torch.nn.modules.pooling.AdaptiveAvgPool2d'>.\n"
     ]
    }
   ],
   "source": [
    "save_model_info(model_name,model,train_acca,test_acca,train_lossa,test_lossa,train_top5_acca,test_top5_acca,learning_rate,epochs,momentum,weight_decay)"
   ]
  }
 ],
 "metadata": {
  "kernelspec": {
   "display_name": "ml",
   "language": "python",
   "name": "python3"
  },
  "language_info": {
   "codemirror_mode": {
    "name": "ipython",
    "version": 3
   },
   "file_extension": ".py",
   "mimetype": "text/x-python",
   "name": "python",
   "nbconvert_exporter": "python",
   "pygments_lexer": "ipython3",
   "version": "3.8.13"
  },
  "orig_nbformat": 4
 },
 "nbformat": 4,
 "nbformat_minor": 2
}